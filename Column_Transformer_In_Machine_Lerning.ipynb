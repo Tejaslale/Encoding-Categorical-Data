{
 "cells": [
  {
   "cell_type": "code",
   "execution_count": 32,
   "id": "25d35233",
   "metadata": {},
   "outputs": [],
   "source": [
    "import numpy as np\n",
    "import pandas as pd"
   ]
  },
  {
   "cell_type": "code",
   "execution_count": 33,
   "id": "12836c57",
   "metadata": {},
   "outputs": [],
   "source": [
    "from sklearn.impute import SimpleImputer\n",
    "from sklearn.preprocessing import OneHotEncoder\n",
    "from sklearn.preprocessing import OrdinalEncoder"
   ]
  },
  {
   "cell_type": "code",
   "execution_count": 34,
   "id": "1757317f",
   "metadata": {},
   "outputs": [
    {
     "name": "stdout",
     "output_type": "stream",
     "text": [
      "CSV file 'covid_toy.csv' created successfully with random data.\n"
     ]
    }
   ],
   "source": [
    "import pandas as pd\n",
    "import numpy as np\n",
    "import random\n",
    "\n",
    "# Define the number of rows you want\n",
    "num_rows = 1000\n",
    "\n",
    "# Generate random data\n",
    "data = {\n",
    "    'Age': np.concatenate([\n",
    "        np.random.randint(16, 59, size=int(num_rows * 0.8)),  # 80% of the ages between 16 and 58\n",
    "        np.random.randint(1, 91, size=int(num_rows * 0.2))    # 20% of the ages between 1 and 90\n",
    "    ]),\n",
    "    'Gender': np.random.choice(['Male', 'Female'], size=num_rows),\n",
    "    'Fever': np.random.uniform(98.0, 120.0, size=num_rows).round(1),\n",
    "    'Cough': np.random.choice(['High', 'Low', 'Mild'], size=num_rows),\n",
    "    'City': np.random.choice(['Delhi', 'Mumbai', 'Kolkata', 'Chennai', 'Bangalore', 'Hyderabad', 'Ahmedabad', 'Pune', 'Jaipur', 'Lucknow', 'Kanpur', 'Nagpur', 'Indore', 'Patna', 'Bhopal'], size=num_rows),\n",
    "    'Has_Covid': np.random.choice(['Yes', 'No'], size=num_rows)\n",
    "}\n",
    "\n",
    "# Create DataFrame\n",
    "df = pd.DataFrame(data)\n",
    "\n",
    "# Save DataFrame to CSV\n",
    "df.to_csv('covid_toy.csv', index=False)\n",
    "\n",
    "print(\"CSV file 'covid_toy.csv' created successfully with random data.\")\n"
   ]
  },
  {
   "cell_type": "code",
   "execution_count": 35,
   "id": "75f4a715",
   "metadata": {},
   "outputs": [],
   "source": [
    "df = pd.read_csv('covid_toy.csv')"
   ]
  },
  {
   "cell_type": "code",
   "execution_count": 36,
   "id": "4647f381",
   "metadata": {},
   "outputs": [
    {
     "data": {
      "text/html": [
       "<div>\n",
       "<style scoped>\n",
       "    .dataframe tbody tr th:only-of-type {\n",
       "        vertical-align: middle;\n",
       "    }\n",
       "\n",
       "    .dataframe tbody tr th {\n",
       "        vertical-align: top;\n",
       "    }\n",
       "\n",
       "    .dataframe thead th {\n",
       "        text-align: right;\n",
       "    }\n",
       "</style>\n",
       "<table border=\"1\" class=\"dataframe\">\n",
       "  <thead>\n",
       "    <tr style=\"text-align: right;\">\n",
       "      <th></th>\n",
       "      <th>Age</th>\n",
       "      <th>Gender</th>\n",
       "      <th>Fever</th>\n",
       "      <th>Cough</th>\n",
       "      <th>City</th>\n",
       "      <th>Has_Covid</th>\n",
       "    </tr>\n",
       "  </thead>\n",
       "  <tbody>\n",
       "    <tr>\n",
       "      <th>0</th>\n",
       "      <td>21</td>\n",
       "      <td>Male</td>\n",
       "      <td>110.3</td>\n",
       "      <td>Mild</td>\n",
       "      <td>Bhopal</td>\n",
       "      <td>Yes</td>\n",
       "    </tr>\n",
       "    <tr>\n",
       "      <th>1</th>\n",
       "      <td>56</td>\n",
       "      <td>Female</td>\n",
       "      <td>111.3</td>\n",
       "      <td>High</td>\n",
       "      <td>Kolkata</td>\n",
       "      <td>Yes</td>\n",
       "    </tr>\n",
       "    <tr>\n",
       "      <th>2</th>\n",
       "      <td>53</td>\n",
       "      <td>Female</td>\n",
       "      <td>110.7</td>\n",
       "      <td>Low</td>\n",
       "      <td>Indore</td>\n",
       "      <td>No</td>\n",
       "    </tr>\n",
       "    <tr>\n",
       "      <th>3</th>\n",
       "      <td>44</td>\n",
       "      <td>Male</td>\n",
       "      <td>99.0</td>\n",
       "      <td>Mild</td>\n",
       "      <td>Delhi</td>\n",
       "      <td>No</td>\n",
       "    </tr>\n",
       "    <tr>\n",
       "      <th>4</th>\n",
       "      <td>44</td>\n",
       "      <td>Male</td>\n",
       "      <td>104.7</td>\n",
       "      <td>High</td>\n",
       "      <td>Nagpur</td>\n",
       "      <td>Yes</td>\n",
       "    </tr>\n",
       "  </tbody>\n",
       "</table>\n",
       "</div>"
      ],
      "text/plain": [
       "   Age  Gender  Fever Cough     City Has_Covid\n",
       "0   21    Male  110.3  Mild   Bhopal       Yes\n",
       "1   56  Female  111.3  High  Kolkata       Yes\n",
       "2   53  Female  110.7   Low   Indore        No\n",
       "3   44    Male   99.0  Mild    Delhi        No\n",
       "4   44    Male  104.7  High   Nagpur       Yes"
      ]
     },
     "execution_count": 36,
     "metadata": {},
     "output_type": "execute_result"
    }
   ],
   "source": [
    "df.head(5)"
   ]
  },
  {
   "cell_type": "code",
   "execution_count": null,
   "id": "a51b8911",
   "metadata": {},
   "outputs": [],
   "source": []
  },
  {
   "cell_type": "code",
   "execution_count": 43,
   "id": "b095431b",
   "metadata": {},
   "outputs": [
    {
     "data": {
      "text/plain": [
       "Cough\n",
       "Low     341\n",
       "High    330\n",
       "Mild    329\n",
       "Name: count, dtype: int64"
      ]
     },
     "execution_count": 43,
     "metadata": {},
     "output_type": "execute_result"
    }
   ],
   "source": [
    "df['Cough'].value_counts()"
   ]
  },
  {
   "cell_type": "code",
   "execution_count": 44,
   "id": "d9188f98",
   "metadata": {},
   "outputs": [
    {
     "data": {
      "text/plain": [
       "City\n",
       "Kolkata      85\n",
       "Chennai      76\n",
       "Jaipur       74\n",
       "Patna        73\n",
       "Nagpur       72\n",
       "Kanpur       69\n",
       "Delhi        66\n",
       "Pune         65\n",
       "Mumbai       64\n",
       "Bhopal       63\n",
       "Ahmedabad    62\n",
       "Indore       60\n",
       "Bangalore    59\n",
       "Lucknow      58\n",
       "Hyderabad    54\n",
       "Name: count, dtype: int64"
      ]
     },
     "execution_count": 44,
     "metadata": {},
     "output_type": "execute_result"
    }
   ],
   "source": [
    "df['City'].value_counts()"
   ]
  },
  {
   "cell_type": "code",
   "execution_count": 46,
   "id": "380aa609",
   "metadata": {},
   "outputs": [],
   "source": [
    "from sklearn.model_selection import train_test_split\n",
    "x_train,x_test,y_train,y_test = train_test_split(df.drop(columns=['Has_Covid']),df['Has_Covid'],test_size=0.2,random_state=42)"
   ]
  },
  {
   "cell_type": "code",
   "execution_count": 47,
   "id": "e17631fd",
   "metadata": {},
   "outputs": [
    {
     "data": {
      "text/plain": [
       "Age          0\n",
       "Gender       0\n",
       "Fever        0\n",
       "Cough        0\n",
       "City         0\n",
       "Has_Covid    0\n",
       "dtype: int64"
      ]
     },
     "execution_count": 47,
     "metadata": {},
     "output_type": "execute_result"
    }
   ],
   "source": [
    "df.isnull().sum()"
   ]
  },
  {
   "cell_type": "code",
   "execution_count": 49,
   "id": "ae670cda",
   "metadata": {},
   "outputs": [],
   "source": [
    "#1.Aam Zindagi"
   ]
  },
  {
   "cell_type": "code",
   "execution_count": 54,
   "id": "b495bd3b",
   "metadata": {},
   "outputs": [
    {
     "data": {
      "text/plain": [
       "(800, 1)"
      ]
     },
     "execution_count": 54,
     "metadata": {},
     "output_type": "execute_result"
    }
   ],
   "source": [
    "s1 = SimpleImputer()\n",
    "x_train_fevar = s1.fit_transform(x_train[['Fever']])\n",
    "\n",
    "x_train_fever = s1.fit_transform(x_test[['Fever']])\n",
    "x_train_fevar.shape"
   ]
  },
  {
   "cell_type": "code",
   "execution_count": 57,
   "id": "6381bd8d",
   "metadata": {},
   "outputs": [
    {
     "name": "stdout",
     "output_type": "stream",
     "text": [
      "(800, 1)\n"
     ]
    }
   ],
   "source": [
    "from sklearn.preprocessing import OrdinalEncoder\n",
    "\n",
    "# Ordinal encoding -- cough\n",
    "oe = OrdinalEncoder(categories=[['High', 'Low', 'Mild']])\n",
    "x_train_cough = oe.fit_transform(x_train[['Cough']])\n",
    "\n",
    "# Also the test data\n",
    "x_test_cough = oe.transform(x_test[['Cough']])\n",
    "\n",
    "# Check the shape of the transformed training data\n",
    "print(x_train_cough.shape)\n"
   ]
  },
  {
   "cell_type": "code",
   "execution_count": 62,
   "id": "392d7bfd",
   "metadata": {},
   "outputs": [
    {
     "name": "stdout",
     "output_type": "stream",
     "text": [
      "(800, 15)\n"
     ]
    }
   ],
   "source": [
    "# Define the OneHotEncoder\n",
    "one = OneHotEncoder(drop='first', sparse_output=False)\n",
    "\n",
    "# Fit and transform the training data\n",
    "x_train_gender_city = one.fit_transform(x_train[['Gender', 'City']])\n",
    "\n",
    "# Transform the test data\n",
    "x_test_gender_city = one.transform(x_test[['Gender', 'City']])\n",
    "\n",
    "# Check the shape of the transformed training data\n",
    "print(x_train_gender_city.shape)\n"
   ]
  },
  {
   "cell_type": "code",
   "execution_count": 63,
   "id": "0ae7a1da",
   "metadata": {},
   "outputs": [
    {
     "name": "stdout",
     "output_type": "stream",
     "text": [
      "x_train_gender_city shape: (5, 4)\n",
      "x_test_gender_city shape: (3, 4)\n",
      "x_train_gender_city:\n",
      " [[1. 0. 0. 0.]\n",
      " [0. 0. 0. 1.]\n",
      " [0. 1. 0. 0.]\n",
      " [1. 0. 1. 0.]\n",
      " [0. 0. 0. 1.]]\n",
      "x_test_gender_city:\n",
      " [[0. 0. 0. 1.]\n",
      " [1. 0. 0. 0.]\n",
      " [0. 1. 1. 0.]]\n"
     ]
    }
   ],
   "source": [
    "import pandas as pd\n",
    "from sklearn.preprocessing import OneHotEncoder\n",
    "\n",
    "# Sample data\n",
    "x_train = pd.DataFrame({\n",
    "    'Gender': ['Male', 'Female', 'Transgender', 'Male', 'Female'],\n",
    "    'City': ['Delhi', 'Mumbai', 'Delhi', 'Kolkata', 'Mumbai']\n",
    "})\n",
    "x_test = pd.DataFrame({\n",
    "    'Gender': ['Female', 'Male', 'Transgender'],\n",
    "    'City': ['Mumbai', 'Delhi', 'Kolkata']\n",
    "})\n",
    "\n",
    "# Define the OneHotEncoder\n",
    "one = OneHotEncoder(drop='first', sparse_output=False)\n",
    "\n",
    "# Fit and transform the training data\n",
    "x_train_gender_city = one.fit_transform(x_train[['Gender', 'City']])\n",
    "\n",
    "# Transform the test data\n",
    "x_test_gender_city = one.transform(x_test[['Gender', 'City']])\n",
    "\n",
    "# Check the shape of the transformed data\n",
    "print(\"x_train_gender_city shape:\", x_train_gender_city.shape)\n",
    "print(\"x_test_gender_city shape:\", x_test_gender_city.shape)\n",
    "\n",
    "# Output the encoded data\n",
    "print(\"x_train_gender_city:\\n\", x_train_gender_city)\n",
    "print(\"x_test_gender_city:\\n\", x_test_gender_city)\n"
   ]
  },
  {
   "cell_type": "code",
   "execution_count": null,
   "id": "8338aeb6",
   "metadata": {},
   "outputs": [],
   "source": []
  }
 ],
 "metadata": {
  "kernelspec": {
   "display_name": "Python 3 (ipykernel)",
   "language": "python",
   "name": "python3"
  },
  "language_info": {
   "codemirror_mode": {
    "name": "ipython",
    "version": 3
   },
   "file_extension": ".py",
   "mimetype": "text/x-python",
   "name": "python",
   "nbconvert_exporter": "python",
   "pygments_lexer": "ipython3",
   "version": "3.11.3"
  }
 },
 "nbformat": 4,
 "nbformat_minor": 5
}
