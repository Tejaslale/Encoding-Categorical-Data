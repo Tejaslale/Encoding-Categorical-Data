{
 "cells": [
  {
   "cell_type": "code",
   "execution_count": 2,
   "id": "8f9d5212",
   "metadata": {},
   "outputs": [],
   "source": [
    "import pandas as pd\n",
    "import numpy as np\n",
    "import matplotlib.pyplot as plt"
   ]
  },
  {
   "cell_type": "code",
   "execution_count": 111,
   "id": "5e52a1ef",
   "metadata": {},
   "outputs": [
    {
     "data": {
      "text/plain": [
       "'cars.csv'"
      ]
     },
     "execution_count": 111,
     "metadata": {},
     "output_type": "execute_result"
    }
   ],
   "source": [
    "import random\n",
    "\n",
    "# Generating random data for the cars.csv file\n",
    "brands = ['Toyota', 'Honda', 'TATA', 'Mahindra', 'Hyundai', 'Skoda','Volvo','Fiat','Jeep','Jaguar','Audi', 'Volkswagen', 'Kia', 'BMW', 'Mercedes']\n",
    "km_driven = [random.randint(5000, 200000) for _ in range(5000)]\n",
    "fuel = random.choices(['Diesel', 'Petrol','CNG','LPG'], k=5000)\n",
    "owner = random.choices(['First Owner', 'Second Owner', 'Third Owner','Forth & Above Owner'], k=5000)\n",
    "selling_price = [random.randint(100000, 500000) for _ in range(5000)]\n",
    "\n",
    "# Creating a DataFrame\n",
    "cars_df = pd.DataFrame({\n",
    "    'Brand': random.choices(brands, k=5000),\n",
    "    'Km_Driven': km_driven,\n",
    "    'Fuel': fuel,\n",
    "    'Owner': owner,\n",
    "    'Selling_Price': selling_price\n",
    "})\n",
    "\n",
    "# Saving to a CSV file\n",
    "file_path = 'cars.csv'\n",
    "cars_df.to_csv(file_path, index=False)\n",
    "\n",
    "file_path"
   ]
  },
  {
   "cell_type": "code",
   "execution_count": 112,
   "id": "1cc4ccd7",
   "metadata": {},
   "outputs": [],
   "source": [
    "df =pd.read_csv('cars.csv')"
   ]
  },
  {
   "cell_type": "code",
   "execution_count": 113,
   "id": "ba73c2e1",
   "metadata": {},
   "outputs": [
    {
     "data": {
      "text/html": [
       "<div>\n",
       "<style scoped>\n",
       "    .dataframe tbody tr th:only-of-type {\n",
       "        vertical-align: middle;\n",
       "    }\n",
       "\n",
       "    .dataframe tbody tr th {\n",
       "        vertical-align: top;\n",
       "    }\n",
       "\n",
       "    .dataframe thead th {\n",
       "        text-align: right;\n",
       "    }\n",
       "</style>\n",
       "<table border=\"1\" class=\"dataframe\">\n",
       "  <thead>\n",
       "    <tr style=\"text-align: right;\">\n",
       "      <th></th>\n",
       "      <th>Brand</th>\n",
       "      <th>Km_Driven</th>\n",
       "      <th>Fuel</th>\n",
       "      <th>Owner</th>\n",
       "      <th>Selling_Price</th>\n",
       "    </tr>\n",
       "  </thead>\n",
       "  <tbody>\n",
       "    <tr>\n",
       "      <th>0</th>\n",
       "      <td>Hyundai</td>\n",
       "      <td>31646</td>\n",
       "      <td>CNG</td>\n",
       "      <td>Third Owner</td>\n",
       "      <td>358505</td>\n",
       "    </tr>\n",
       "    <tr>\n",
       "      <th>1</th>\n",
       "      <td>Honda</td>\n",
       "      <td>41754</td>\n",
       "      <td>Diesel</td>\n",
       "      <td>Forth &amp; Above Owner</td>\n",
       "      <td>104979</td>\n",
       "    </tr>\n",
       "    <tr>\n",
       "      <th>2</th>\n",
       "      <td>Hyundai</td>\n",
       "      <td>6316</td>\n",
       "      <td>LPG</td>\n",
       "      <td>Forth &amp; Above Owner</td>\n",
       "      <td>158550</td>\n",
       "    </tr>\n",
       "    <tr>\n",
       "      <th>3</th>\n",
       "      <td>Skoda</td>\n",
       "      <td>135014</td>\n",
       "      <td>Petrol</td>\n",
       "      <td>First Owner</td>\n",
       "      <td>279857</td>\n",
       "    </tr>\n",
       "    <tr>\n",
       "      <th>4</th>\n",
       "      <td>Toyota</td>\n",
       "      <td>78334</td>\n",
       "      <td>Petrol</td>\n",
       "      <td>Forth &amp; Above Owner</td>\n",
       "      <td>210982</td>\n",
       "    </tr>\n",
       "  </tbody>\n",
       "</table>\n",
       "</div>"
      ],
      "text/plain": [
       "     Brand  Km_Driven    Fuel                Owner  Selling_Price\n",
       "0  Hyundai      31646     CNG          Third Owner         358505\n",
       "1    Honda      41754  Diesel  Forth & Above Owner         104979\n",
       "2  Hyundai       6316     LPG  Forth & Above Owner         158550\n",
       "3    Skoda     135014  Petrol          First Owner         279857\n",
       "4   Toyota      78334  Petrol  Forth & Above Owner         210982"
      ]
     },
     "execution_count": 113,
     "metadata": {},
     "output_type": "execute_result"
    }
   ],
   "source": [
    "df.head()"
   ]
  },
  {
   "cell_type": "code",
   "execution_count": 114,
   "id": "860e2c6b",
   "metadata": {},
   "outputs": [
    {
     "data": {
      "text/plain": [
       "Brand\n",
       "Toyota        369\n",
       "BMW           353\n",
       "Kia           350\n",
       "Mahindra      349\n",
       "Honda         342\n",
       "Skoda         337\n",
       "Hyundai       336\n",
       "Audi          335\n",
       "Volkswagen    329\n",
       "Fiat          328\n",
       "Volvo         326\n",
       "Jeep          322\n",
       "Jaguar        309\n",
       "Mercedes      309\n",
       "TATA          306\n",
       "Name: count, dtype: int64"
      ]
     },
     "execution_count": 114,
     "metadata": {},
     "output_type": "execute_result"
    }
   ],
   "source": [
    "df['Brand'].value_counts()"
   ]
  },
  {
   "cell_type": "code",
   "execution_count": 115,
   "id": "07780a41",
   "metadata": {},
   "outputs": [
    {
     "data": {
      "text/plain": [
       "Fuel\n",
       "Diesel    1318\n",
       "Petrol    1257\n",
       "CNG       1234\n",
       "LPG       1191\n",
       "Name: count, dtype: int64"
      ]
     },
     "execution_count": 115,
     "metadata": {},
     "output_type": "execute_result"
    }
   ],
   "source": [
    "df['Fuel'].value_counts()"
   ]
  },
  {
   "cell_type": "code",
   "execution_count": 116,
   "id": "9ff15788",
   "metadata": {},
   "outputs": [
    {
     "data": {
      "text/plain": [
       "Owner\n",
       "First Owner            1270\n",
       "Forth & Above Owner    1261\n",
       "Third Owner            1254\n",
       "Second Owner           1215\n",
       "Name: count, dtype: int64"
      ]
     },
     "execution_count": 116,
     "metadata": {},
     "output_type": "execute_result"
    }
   ],
   "source": [
    "df['Owner'].value_counts()"
   ]
  },
  {
   "cell_type": "code",
   "execution_count": null,
   "id": "44355258",
   "metadata": {},
   "outputs": [],
   "source": []
  },
  {
   "cell_type": "code",
   "execution_count": 117,
   "id": "05af4910",
   "metadata": {
    "scrolled": true
   },
   "outputs": [],
   "source": [
    "df_OHE = pd.get_dummies(df, columns=['Fuel', 'Owner'], drop_first=True)"
   ]
  },
  {
   "cell_type": "code",
   "execution_count": 118,
   "id": "3fc4673b",
   "metadata": {},
   "outputs": [
    {
     "data": {
      "text/html": [
       "<div>\n",
       "<style scoped>\n",
       "    .dataframe tbody tr th:only-of-type {\n",
       "        vertical-align: middle;\n",
       "    }\n",
       "\n",
       "    .dataframe tbody tr th {\n",
       "        vertical-align: top;\n",
       "    }\n",
       "\n",
       "    .dataframe thead th {\n",
       "        text-align: right;\n",
       "    }\n",
       "</style>\n",
       "<table border=\"1\" class=\"dataframe\">\n",
       "  <thead>\n",
       "    <tr style=\"text-align: right;\">\n",
       "      <th></th>\n",
       "      <th>Brand</th>\n",
       "      <th>Km_Driven</th>\n",
       "      <th>Selling_Price</th>\n",
       "      <th>Fuel_Diesel</th>\n",
       "      <th>Fuel_LPG</th>\n",
       "      <th>Fuel_Petrol</th>\n",
       "      <th>Owner_Forth &amp; Above Owner</th>\n",
       "      <th>Owner_Second Owner</th>\n",
       "      <th>Owner_Third Owner</th>\n",
       "    </tr>\n",
       "  </thead>\n",
       "  <tbody>\n",
       "    <tr>\n",
       "      <th>0</th>\n",
       "      <td>Hyundai</td>\n",
       "      <td>31646</td>\n",
       "      <td>358505</td>\n",
       "      <td>False</td>\n",
       "      <td>False</td>\n",
       "      <td>False</td>\n",
       "      <td>False</td>\n",
       "      <td>False</td>\n",
       "      <td>True</td>\n",
       "    </tr>\n",
       "    <tr>\n",
       "      <th>1</th>\n",
       "      <td>Honda</td>\n",
       "      <td>41754</td>\n",
       "      <td>104979</td>\n",
       "      <td>True</td>\n",
       "      <td>False</td>\n",
       "      <td>False</td>\n",
       "      <td>True</td>\n",
       "      <td>False</td>\n",
       "      <td>False</td>\n",
       "    </tr>\n",
       "    <tr>\n",
       "      <th>2</th>\n",
       "      <td>Hyundai</td>\n",
       "      <td>6316</td>\n",
       "      <td>158550</td>\n",
       "      <td>False</td>\n",
       "      <td>True</td>\n",
       "      <td>False</td>\n",
       "      <td>True</td>\n",
       "      <td>False</td>\n",
       "      <td>False</td>\n",
       "    </tr>\n",
       "    <tr>\n",
       "      <th>3</th>\n",
       "      <td>Skoda</td>\n",
       "      <td>135014</td>\n",
       "      <td>279857</td>\n",
       "      <td>False</td>\n",
       "      <td>False</td>\n",
       "      <td>True</td>\n",
       "      <td>False</td>\n",
       "      <td>False</td>\n",
       "      <td>False</td>\n",
       "    </tr>\n",
       "    <tr>\n",
       "      <th>4</th>\n",
       "      <td>Toyota</td>\n",
       "      <td>78334</td>\n",
       "      <td>210982</td>\n",
       "      <td>False</td>\n",
       "      <td>False</td>\n",
       "      <td>True</td>\n",
       "      <td>True</td>\n",
       "      <td>False</td>\n",
       "      <td>False</td>\n",
       "    </tr>\n",
       "    <tr>\n",
       "      <th>...</th>\n",
       "      <td>...</td>\n",
       "      <td>...</td>\n",
       "      <td>...</td>\n",
       "      <td>...</td>\n",
       "      <td>...</td>\n",
       "      <td>...</td>\n",
       "      <td>...</td>\n",
       "      <td>...</td>\n",
       "      <td>...</td>\n",
       "    </tr>\n",
       "    <tr>\n",
       "      <th>4995</th>\n",
       "      <td>Toyota</td>\n",
       "      <td>80997</td>\n",
       "      <td>258047</td>\n",
       "      <td>False</td>\n",
       "      <td>False</td>\n",
       "      <td>False</td>\n",
       "      <td>False</td>\n",
       "      <td>False</td>\n",
       "      <td>False</td>\n",
       "    </tr>\n",
       "    <tr>\n",
       "      <th>4996</th>\n",
       "      <td>BMW</td>\n",
       "      <td>116011</td>\n",
       "      <td>372734</td>\n",
       "      <td>True</td>\n",
       "      <td>False</td>\n",
       "      <td>False</td>\n",
       "      <td>False</td>\n",
       "      <td>False</td>\n",
       "      <td>True</td>\n",
       "    </tr>\n",
       "    <tr>\n",
       "      <th>4997</th>\n",
       "      <td>Mahindra</td>\n",
       "      <td>41230</td>\n",
       "      <td>382648</td>\n",
       "      <td>False</td>\n",
       "      <td>False</td>\n",
       "      <td>True</td>\n",
       "      <td>False</td>\n",
       "      <td>False</td>\n",
       "      <td>False</td>\n",
       "    </tr>\n",
       "    <tr>\n",
       "      <th>4998</th>\n",
       "      <td>Volvo</td>\n",
       "      <td>56432</td>\n",
       "      <td>367610</td>\n",
       "      <td>False</td>\n",
       "      <td>False</td>\n",
       "      <td>True</td>\n",
       "      <td>False</td>\n",
       "      <td>False</td>\n",
       "      <td>False</td>\n",
       "    </tr>\n",
       "    <tr>\n",
       "      <th>4999</th>\n",
       "      <td>Hyundai</td>\n",
       "      <td>82100</td>\n",
       "      <td>454071</td>\n",
       "      <td>False</td>\n",
       "      <td>True</td>\n",
       "      <td>False</td>\n",
       "      <td>False</td>\n",
       "      <td>False</td>\n",
       "      <td>False</td>\n",
       "    </tr>\n",
       "  </tbody>\n",
       "</table>\n",
       "<p>5000 rows × 9 columns</p>\n",
       "</div>"
      ],
      "text/plain": [
       "         Brand  Km_Driven  Selling_Price  Fuel_Diesel  Fuel_LPG  Fuel_Petrol  \\\n",
       "0      Hyundai      31646         358505        False     False        False   \n",
       "1        Honda      41754         104979         True     False        False   \n",
       "2      Hyundai       6316         158550        False      True        False   \n",
       "3        Skoda     135014         279857        False     False         True   \n",
       "4       Toyota      78334         210982        False     False         True   \n",
       "...        ...        ...            ...          ...       ...          ...   \n",
       "4995    Toyota      80997         258047        False     False        False   \n",
       "4996       BMW     116011         372734         True     False        False   \n",
       "4997  Mahindra      41230         382648        False     False         True   \n",
       "4998     Volvo      56432         367610        False     False         True   \n",
       "4999   Hyundai      82100         454071        False      True        False   \n",
       "\n",
       "      Owner_Forth & Above Owner  Owner_Second Owner  Owner_Third Owner  \n",
       "0                         False               False               True  \n",
       "1                          True               False              False  \n",
       "2                          True               False              False  \n",
       "3                         False               False              False  \n",
       "4                          True               False              False  \n",
       "...                         ...                 ...                ...  \n",
       "4995                      False               False              False  \n",
       "4996                      False               False               True  \n",
       "4997                      False               False              False  \n",
       "4998                      False               False              False  \n",
       "4999                      False               False              False  \n",
       "\n",
       "[5000 rows x 9 columns]"
      ]
     },
     "execution_count": 118,
     "metadata": {},
     "output_type": "execute_result"
    }
   ],
   "source": [
    "df_OHE"
   ]
  },
  {
   "cell_type": "code",
   "execution_count": 119,
   "id": "8908e025",
   "metadata": {},
   "outputs": [],
   "source": [
    "from sklearn.model_selection import train_test_split\n",
    "x_train,x_test,y_train,y_test = train_test_split(df.iloc[:,0:4],df.iloc[:,-1],test_size=0.2,random_state=42)"
   ]
  },
  {
   "cell_type": "code",
   "execution_count": 120,
   "id": "aaed2d34",
   "metadata": {},
   "outputs": [
    {
     "data": {
      "text/html": [
       "<div>\n",
       "<style scoped>\n",
       "    .dataframe tbody tr th:only-of-type {\n",
       "        vertical-align: middle;\n",
       "    }\n",
       "\n",
       "    .dataframe tbody tr th {\n",
       "        vertical-align: top;\n",
       "    }\n",
       "\n",
       "    .dataframe thead th {\n",
       "        text-align: right;\n",
       "    }\n",
       "</style>\n",
       "<table border=\"1\" class=\"dataframe\">\n",
       "  <thead>\n",
       "    <tr style=\"text-align: right;\">\n",
       "      <th></th>\n",
       "      <th>Brand</th>\n",
       "      <th>Km_Driven</th>\n",
       "      <th>Fuel</th>\n",
       "      <th>Owner</th>\n",
       "    </tr>\n",
       "  </thead>\n",
       "  <tbody>\n",
       "    <tr>\n",
       "      <th>4227</th>\n",
       "      <td>Jeep</td>\n",
       "      <td>197591</td>\n",
       "      <td>LPG</td>\n",
       "      <td>Forth &amp; Above Owner</td>\n",
       "    </tr>\n",
       "    <tr>\n",
       "      <th>4676</th>\n",
       "      <td>Honda</td>\n",
       "      <td>183546</td>\n",
       "      <td>CNG</td>\n",
       "      <td>Third Owner</td>\n",
       "    </tr>\n",
       "    <tr>\n",
       "      <th>800</th>\n",
       "      <td>Volkswagen</td>\n",
       "      <td>30015</td>\n",
       "      <td>LPG</td>\n",
       "      <td>Forth &amp; Above Owner</td>\n",
       "    </tr>\n",
       "    <tr>\n",
       "      <th>3671</th>\n",
       "      <td>Volvo</td>\n",
       "      <td>99303</td>\n",
       "      <td>CNG</td>\n",
       "      <td>Second Owner</td>\n",
       "    </tr>\n",
       "    <tr>\n",
       "      <th>4193</th>\n",
       "      <td>Kia</td>\n",
       "      <td>97559</td>\n",
       "      <td>CNG</td>\n",
       "      <td>First Owner</td>\n",
       "    </tr>\n",
       "  </tbody>\n",
       "</table>\n",
       "</div>"
      ],
      "text/plain": [
       "           Brand  Km_Driven Fuel                Owner\n",
       "4227        Jeep     197591  LPG  Forth & Above Owner\n",
       "4676       Honda     183546  CNG          Third Owner\n",
       "800   Volkswagen      30015  LPG  Forth & Above Owner\n",
       "3671       Volvo      99303  CNG         Second Owner\n",
       "4193         Kia      97559  CNG          First Owner"
      ]
     },
     "execution_count": 120,
     "metadata": {},
     "output_type": "execute_result"
    }
   ],
   "source": [
    "x_train.head()"
   ]
  },
  {
   "cell_type": "code",
   "execution_count": 121,
   "id": "b9ba0655",
   "metadata": {},
   "outputs": [],
   "source": [
    "from sklearn.preprocessing import OneHotEncoder"
   ]
  },
  {
   "cell_type": "code",
   "execution_count": 122,
   "id": "ca588d2c",
   "metadata": {},
   "outputs": [],
   "source": [
    "ohe = OneHotEncoder(drop='first',sparse_output=False,dtype=np.int32)"
   ]
  },
  {
   "cell_type": "code",
   "execution_count": 123,
   "id": "597b061b",
   "metadata": {},
   "outputs": [],
   "source": [
    "x_train_new = ohe.fit_transform(x_train[['Fuel','Owner']])"
   ]
  },
  {
   "cell_type": "code",
   "execution_count": 124,
   "id": "bf56d55f",
   "metadata": {},
   "outputs": [],
   "source": [
    "x_test_new = ohe.transform(x_test[['Fuel','Owner']])"
   ]
  },
  {
   "cell_type": "code",
   "execution_count": 125,
   "id": "e777be60",
   "metadata": {},
   "outputs": [
    {
     "data": {
      "text/plain": [
       "(1000, 6)"
      ]
     },
     "execution_count": 125,
     "metadata": {},
     "output_type": "execute_result"
    }
   ],
   "source": [
    "x_test_new.shape"
   ]
  },
  {
   "cell_type": "code",
   "execution_count": 126,
   "id": "63c225e0",
   "metadata": {},
   "outputs": [
    {
     "data": {
      "text/plain": [
       "(4000, 8)"
      ]
     },
     "execution_count": 126,
     "metadata": {},
     "output_type": "execute_result"
    }
   ],
   "source": [
    "np.hstack((x_train[['Brand','Km_Driven']].values,x_train_new)).shape"
   ]
  },
  {
   "cell_type": "code",
   "execution_count": null,
   "id": "43ea757b",
   "metadata": {},
   "outputs": [],
   "source": []
  },
  {
   "cell_type": "code",
   "execution_count": 127,
   "id": "136ea158",
   "metadata": {},
   "outputs": [],
   "source": [
    "#OneHotEncoding with Top Categories"
   ]
  },
  {
   "cell_type": "code",
   "execution_count": 131,
   "id": "838c165b",
   "metadata": {},
   "outputs": [],
   "source": [
    "count = df['Brand'].value_counts()"
   ]
  },
  {
   "cell_type": "code",
   "execution_count": 132,
   "id": "ffb1cf30",
   "metadata": {},
   "outputs": [],
   "source": [
    "df['Brand'].nunique()\n",
    "threshold=100"
   ]
  },
  {
   "cell_type": "code",
   "execution_count": 133,
   "id": "04ade089",
   "metadata": {},
   "outputs": [],
   "source": [
    "repl = count[count <= threshold].index"
   ]
  },
  {
   "cell_type": "code",
   "execution_count": 142,
   "id": "63bffac0",
   "metadata": {},
   "outputs": [
    {
     "data": {
      "text/html": [
       "<div>\n",
       "<style scoped>\n",
       "    .dataframe tbody tr th:only-of-type {\n",
       "        vertical-align: middle;\n",
       "    }\n",
       "\n",
       "    .dataframe tbody tr th {\n",
       "        vertical-align: top;\n",
       "    }\n",
       "\n",
       "    .dataframe thead th {\n",
       "        text-align: right;\n",
       "    }\n",
       "</style>\n",
       "<table border=\"1\" class=\"dataframe\">\n",
       "  <thead>\n",
       "    <tr style=\"text-align: right;\">\n",
       "      <th></th>\n",
       "      <th>Audi</th>\n",
       "      <th>BMW</th>\n",
       "      <th>Fiat</th>\n",
       "      <th>Honda</th>\n",
       "      <th>Hyundai</th>\n",
       "      <th>Jaguar</th>\n",
       "      <th>Jeep</th>\n",
       "      <th>Kia</th>\n",
       "      <th>Mahindra</th>\n",
       "      <th>Mercedes</th>\n",
       "      <th>Skoda</th>\n",
       "      <th>TATA</th>\n",
       "      <th>Toyota</th>\n",
       "      <th>Volkswagen</th>\n",
       "      <th>Volvo</th>\n",
       "    </tr>\n",
       "  </thead>\n",
       "  <tbody>\n",
       "    <tr>\n",
       "      <th>2860</th>\n",
       "      <td>False</td>\n",
       "      <td>False</td>\n",
       "      <td>False</td>\n",
       "      <td>False</td>\n",
       "      <td>False</td>\n",
       "      <td>False</td>\n",
       "      <td>False</td>\n",
       "      <td>False</td>\n",
       "      <td>False</td>\n",
       "      <td>True</td>\n",
       "      <td>False</td>\n",
       "      <td>False</td>\n",
       "      <td>False</td>\n",
       "      <td>False</td>\n",
       "      <td>False</td>\n",
       "    </tr>\n",
       "    <tr>\n",
       "      <th>1900</th>\n",
       "      <td>False</td>\n",
       "      <td>False</td>\n",
       "      <td>False</td>\n",
       "      <td>False</td>\n",
       "      <td>False</td>\n",
       "      <td>False</td>\n",
       "      <td>False</td>\n",
       "      <td>False</td>\n",
       "      <td>True</td>\n",
       "      <td>False</td>\n",
       "      <td>False</td>\n",
       "      <td>False</td>\n",
       "      <td>False</td>\n",
       "      <td>False</td>\n",
       "      <td>False</td>\n",
       "    </tr>\n",
       "    <tr>\n",
       "      <th>4457</th>\n",
       "      <td>False</td>\n",
       "      <td>False</td>\n",
       "      <td>False</td>\n",
       "      <td>False</td>\n",
       "      <td>False</td>\n",
       "      <td>False</td>\n",
       "      <td>False</td>\n",
       "      <td>False</td>\n",
       "      <td>False</td>\n",
       "      <td>False</td>\n",
       "      <td>False</td>\n",
       "      <td>False</td>\n",
       "      <td>False</td>\n",
       "      <td>False</td>\n",
       "      <td>True</td>\n",
       "    </tr>\n",
       "    <tr>\n",
       "      <th>2910</th>\n",
       "      <td>False</td>\n",
       "      <td>False</td>\n",
       "      <td>False</td>\n",
       "      <td>False</td>\n",
       "      <td>False</td>\n",
       "      <td>False</td>\n",
       "      <td>False</td>\n",
       "      <td>True</td>\n",
       "      <td>False</td>\n",
       "      <td>False</td>\n",
       "      <td>False</td>\n",
       "      <td>False</td>\n",
       "      <td>False</td>\n",
       "      <td>False</td>\n",
       "      <td>False</td>\n",
       "    </tr>\n",
       "    <tr>\n",
       "      <th>3933</th>\n",
       "      <td>False</td>\n",
       "      <td>False</td>\n",
       "      <td>False</td>\n",
       "      <td>False</td>\n",
       "      <td>False</td>\n",
       "      <td>False</td>\n",
       "      <td>False</td>\n",
       "      <td>False</td>\n",
       "      <td>False</td>\n",
       "      <td>False</td>\n",
       "      <td>False</td>\n",
       "      <td>True</td>\n",
       "      <td>False</td>\n",
       "      <td>False</td>\n",
       "      <td>False</td>\n",
       "    </tr>\n",
       "  </tbody>\n",
       "</table>\n",
       "</div>"
      ],
      "text/plain": [
       "       Audi    BMW   Fiat  Honda  Hyundai  Jaguar   Jeep    Kia  Mahindra  \\\n",
       "2860  False  False  False  False    False   False  False  False     False   \n",
       "1900  False  False  False  False    False   False  False  False      True   \n",
       "4457  False  False  False  False    False   False  False  False     False   \n",
       "2910  False  False  False  False    False   False  False   True     False   \n",
       "3933  False  False  False  False    False   False  False  False     False   \n",
       "\n",
       "      Mercedes  Skoda   TATA  Toyota  Volkswagen  Volvo  \n",
       "2860      True  False  False   False       False  False  \n",
       "1900     False  False  False   False       False  False  \n",
       "4457     False  False  False   False       False   True  \n",
       "2910     False  False  False   False       False  False  \n",
       "3933     False  False   True   False       False  False  "
      ]
     },
     "execution_count": 142,
     "metadata": {},
     "output_type": "execute_result"
    }
   ],
   "source": [
    "pd.get_dummies(df['Brand'].replace(repl,'uncommon')).sample(5)"
   ]
  },
  {
   "cell_type": "code",
   "execution_count": 143,
   "id": "2cd210b9",
   "metadata": {},
   "outputs": [],
   "source": [
    "df_one_hott = pd.get_dummies(df['Brand'])"
   ]
  },
  {
   "cell_type": "code",
   "execution_count": 144,
   "id": "3bb0ce91",
   "metadata": {},
   "outputs": [
    {
     "data": {
      "text/plain": [
       "Audi          335\n",
       "BMW           353\n",
       "Fiat          328\n",
       "Honda         342\n",
       "Hyundai       336\n",
       "Jaguar        309\n",
       "Jeep          322\n",
       "Kia           350\n",
       "Mahindra      349\n",
       "Mercedes      309\n",
       "Skoda         337\n",
       "TATA          306\n",
       "Toyota        369\n",
       "Volkswagen    329\n",
       "Volvo         326\n",
       "dtype: int64"
      ]
     },
     "execution_count": 144,
     "metadata": {},
     "output_type": "execute_result"
    }
   ],
   "source": [
    "df_one_hott.sum()"
   ]
  },
  {
   "cell_type": "code",
   "execution_count": null,
   "id": "ad4412a6",
   "metadata": {},
   "outputs": [],
   "source": []
  }
 ],
 "metadata": {
  "kernelspec": {
   "display_name": "Python 3 (ipykernel)",
   "language": "python",
   "name": "python3"
  },
  "language_info": {
   "codemirror_mode": {
    "name": "ipython",
    "version": 3
   },
   "file_extension": ".py",
   "mimetype": "text/x-python",
   "name": "python",
   "nbconvert_exporter": "python",
   "pygments_lexer": "ipython3",
   "version": "3.11.3"
  }
 },
 "nbformat": 4,
 "nbformat_minor": 5
}
